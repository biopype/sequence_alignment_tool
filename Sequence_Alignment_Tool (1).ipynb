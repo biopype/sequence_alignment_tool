{
  "nbformat": 4,
  "nbformat_minor": 0,
  "metadata": {
    "colab": {
      "provenance": []
    },
    "kernelspec": {
      "name": "python3",
      "display_name": "Python 3"
    },
    "language_info": {
      "name": "python"
    }
  },
  "cells": [
    {
      "cell_type": "code",
      "execution_count": null,
      "metadata": {
        "colab": {
          "base_uri": "https://localhost:8080/"
        },
        "id": "RRMLqDEih4GV",
        "outputId": "2b6253da-4838-49a0-926f-b13250c194d3"
      },
      "outputs": [
        {
          "output_type": "stream",
          "name": "stdout",
          "text": [
            "Collecting biopython\n",
            "  Downloading biopython-1.84-cp310-cp310-manylinux_2_17_x86_64.manylinux2014_x86_64.whl.metadata (12 kB)\n",
            "Requirement already satisfied: numpy in /usr/local/lib/python3.10/dist-packages (from biopython) (1.26.4)\n",
            "Downloading biopython-1.84-cp310-cp310-manylinux_2_17_x86_64.manylinux2014_x86_64.whl (3.2 MB)\n",
            "\u001b[?25l   \u001b[90m━━━━━━━━━━━━━━━━━━━━━━━━━━━━━━━━━━━━━━━━\u001b[0m \u001b[32m0.0/3.2 MB\u001b[0m \u001b[31m?\u001b[0m eta \u001b[36m-:--:--\u001b[0m\r\u001b[2K   \u001b[91m━━\u001b[0m\u001b[91m╸\u001b[0m\u001b[90m━━━━━━━━━━━━━━━━━━━━━━━━━━━━━━━━━━━━━\u001b[0m \u001b[32m0.2/3.2 MB\u001b[0m \u001b[31m6.6 MB/s\u001b[0m eta \u001b[36m0:00:01\u001b[0m\r\u001b[2K   \u001b[91m━━━━━━━━━━━━━━━━━━━━━━\u001b[0m\u001b[91m╸\u001b[0m\u001b[90m━━━━━━━━━━━━━━━━━\u001b[0m \u001b[32m1.8/3.2 MB\u001b[0m \u001b[31m25.5 MB/s\u001b[0m eta \u001b[36m0:00:01\u001b[0m\r\u001b[2K   \u001b[91m━━━━━━━━━━━━━━━━━━━━━━━━━━━━━━━━━━━━━━━\u001b[0m\u001b[91m╸\u001b[0m \u001b[32m3.2/3.2 MB\u001b[0m \u001b[31m36.4 MB/s\u001b[0m eta \u001b[36m0:00:01\u001b[0m\r\u001b[2K   \u001b[90m━━━━━━━━━━━━━━━━━━━━━━━━━━━━━━━━━━━━━━━━\u001b[0m \u001b[32m3.2/3.2 MB\u001b[0m \u001b[31m27.6 MB/s\u001b[0m eta \u001b[36m0:00:00\u001b[0m\n",
            "\u001b[?25hInstalling collected packages: biopython\n",
            "Successfully installed biopython-1.84\n"
          ]
        }
      ],
      "source": [
        "# Install Biopython if not already installed\n",
        "!pip install biopython\n"
      ]
    },
    {
      "cell_type": "code",
      "source": [
        "from Bio import Entrez, SeqIO\n",
        "\n",
        "def fetch_fasta_from_ncbi(accession_id):\n",
        "    Entrez.email = \"xyz@gmail.com\"  # Provide your email\n",
        "    handle = Entrez.efetch(db=\"nucleotide\", id=accession_id, rettype=\"fasta\", retmode=\"text\") # make sure to enter the db correctly. Use \"protein\" if you are using protein FASTA sequences. Or use \"nucleotide\" if you are using nucleotide sequences.\n",
        "    record = SeqIO.read(handle, \"fasta\")\n",
        "    handle.close()\n",
        "    return str(record.seq), record.description\n",
        "\n",
        "# Fetching two sequences by accession IDs\n",
        "accession_id1 = \"NM_001301717\"  # Replace with your desired accession ID\n",
        "accession_id2 = \"NM_001301717\"  # Replace with your desired accession ID\n",
        "\n",
        "seq1, desc1 = fetch_fasta_from_ncbi(accession_id1)\n",
        "seq2, desc2 = fetch_fasta_from_ncbi(accession_id2)\n",
        "print(f\"Fetched sequences:\\n1. {desc1}\\n2. {desc2}\")\n"
      ],
      "metadata": {
        "colab": {
          "base_uri": "https://localhost:8080/"
        },
        "id": "kXtMaIxvvqtJ",
        "outputId": "01752c56-b14a-4ebb-cb95-c837b3607d8c"
      },
      "execution_count": null,
      "outputs": [
        {
          "output_type": "stream",
          "name": "stdout",
          "text": [
            "Fetched sequences:\n",
            "1. NM_001301717.2 Homo sapiens C-C motif chemokine receptor 7 (CCR7), transcript variant 4, mRNA\n",
            "2. NM_001301717.2 Homo sapiens C-C motif chemokine receptor 7 (CCR7), transcript variant 4, mRNA\n"
          ]
        }
      ]
    },
    {
      "cell_type": "code",
      "source": [
        "import numpy as np\n",
        "\n",
        "def needleman_wunsch(seq1, seq2, match_score=1, mismatch_score=-1, gap_penalty=-1):\n",
        "    n = len(seq1)\n",
        "    m = len(seq2)\n",
        "\n",
        "    score_matrix = np.zeros((n+1, m+1))\n",
        "\n",
        "    for i in range(1, n+1):\n",
        "        score_matrix[i][0] = i * gap_penalty\n",
        "    for j in range(1, m+1):\n",
        "        score_matrix[0][j] = j * gap_penalty\n",
        "\n",
        "    for i in range(1, n+1):\n",
        "        for j in range(1, m+1):\n",
        "            match = score_matrix[i-1][j-1] + (match_score if seq1[i-1] == seq2[j-1] else mismatch_score)\n",
        "            delete = score_matrix[i-1][j] + gap_penalty\n",
        "            insert = score_matrix[i][j-1] + gap_penalty\n",
        "            score_matrix[i][j] = max(match, delete, insert)\n",
        "\n",
        "    align1, align2 = '', ''\n",
        "    i, j = n, m\n",
        "    while i > 0 or j > 0:\n",
        "        if i > 0 and j > 0 and score_matrix[i][j] == score_matrix[i-1][j-1] + (match_score if seq1[i-1] == seq2[j-1] else mismatch_score):\n",
        "            align1 = seq1[i-1] + align1\n",
        "            align2 = seq2[j-1] + align2\n",
        "            i -= 1\n",
        "            j -= 1\n",
        "        elif i > 0 and score_matrix[i][j] == score_matrix[i-1][j] + gap_penalty:\n",
        "            align1 = seq1[i-1] + align1\n",
        "            align2 = '-' + align2\n",
        "            i -= 1\n",
        "        else:\n",
        "            align1 = '-' + align1\n",
        "            align2 = seq2[j-1] + align2\n",
        "            j -= 1\n",
        "\n",
        "    return align1, align2, score_matrix[n][m]\n"
      ],
      "metadata": {
        "id": "MK7e40Jezjfu"
      },
      "execution_count": null,
      "outputs": []
    },
    {
      "cell_type": "code",
      "source": [
        "def save_alignment(alignment1, alignment2, score, output_file):\n",
        "    with open(output_file, 'w') as f:\n",
        "        f.write(f\"Alignment 1:\\n{alignment1}\\n\")\n",
        "        f.write(f\"Alignment 2:\\n{alignment2}\\n\")\n",
        "        f.write(f\"Alignment Score: {score}\\n\")\n",
        "\n",
        "output_file = \"alignment_result.txt\"\n",
        "alignment1, alignment2, score = needleman_wunsch(seq1, seq2)\n",
        "save_alignment(alignment1, alignment2, score, output_file)\n",
        "print(f\"Alignment saved to {output_file}\")\n"
      ],
      "metadata": {
        "id": "Iw_ESUAGzpp2",
        "colab": {
          "base_uri": "https://localhost:8080/"
        },
        "outputId": "46239ce7-3002-49e1-e50f-1d30a80fa7aa"
      },
      "execution_count": null,
      "outputs": [
        {
          "output_type": "stream",
          "name": "stdout",
          "text": [
            "Alignment saved to alignment_result.txt\n"
          ]
        }
      ]
    },
    {
      "cell_type": "code",
      "source": [
        "import matplotlib.pyplot as plt\n",
        "\n",
        "def plot_alignment_and_save(alignment1, alignment2, output_pdf):\n",
        "    match_color = 'green'\n",
        "    mismatch_color = 'red'\n",
        "    gap_color = 'blue'\n",
        "\n",
        "    matches = []\n",
        "    mismatches = []\n",
        "    gaps = []\n",
        "\n",
        "    for i in range(len(alignment1)):\n",
        "        if alignment1[i] == alignment2[i]:\n",
        "            matches.append(i)\n",
        "        elif alignment1[i] == '-' or alignment2[i] == '-':\n",
        "            gaps.append(i)\n",
        "        else:\n",
        "            mismatches.append(i)\n",
        "\n",
        "    plt.figure(figsize=(10, 3))\n",
        "    plt.plot(matches, [1] * len(matches), '|', color=match_color, label='Match')\n",
        "    plt.plot(mismatches, [1] * len(mismatches), '|', color=mismatch_color, label='Mismatch')\n",
        "    plt.plot(gaps, [1] * len(gaps), '|', color=gap_color, label='Gap')\n",
        "\n",
        "    plt.yticks([])\n",
        "    plt.xticks(range(0, len(alignment1), max(1, len(alignment1)//10)), rotation=90)\n",
        "    plt.title('Sequence Alignment Visualization')\n",
        "    plt.legend(loc='upper right')\n",
        "\n",
        "    # Save the plot as a PDF file\n",
        "    plt.savefig(output_pdf, format='pdf')\n",
        "    plt.show()\n",
        "\n",
        "# Save the plot as 'alignment_plot.pdf'\n",
        "output_pdf = \"alignment_plot.pdf\"\n",
        "plot_alignment_and_save(alignment1, alignment2, output_pdf)\n",
        "print(f\"Plot saved as {output_pdf}\")\n"
      ],
      "metadata": {
        "id": "eI0pLX-D-lni",
        "colab": {
          "base_uri": "https://localhost:8080/",
          "height": 352
        },
        "outputId": "4b3418e5-032f-4a48-c7ea-69e270d86ce8"
      },
      "execution_count": null,
      "outputs": [
        {
          "output_type": "display_data",
          "data": {
            "text/plain": [
              "<Figure size 1000x300 with 1 Axes>"
            ],
            "image/png": "[encoded data removed]"
          },
          "metadata": {}
        },
        {
          "output_type": "stream",
          "name": "stdout",
          "text": [
            "Plot saved as alignment_plot.pdf\n"
          ]
        }
      ]
    },
    {
      "cell_type": "code",
      "source": [
        "import zipfile\n",
        "import os\n",
        "\n",
        "def zip_project(zip_filename, files_to_zip):\n",
        "    with zipfile.ZipFile(zip_filename, 'w') as zipf:\n",
        "        for file in files_to_zip:\n",
        "            zipf.write(file)\n",
        "            os.remove(file)  # Optional: Remove the file after zipping it\n",
        "\n",
        "zip_filename = \"dna_alignment_project.zip\"\n",
        "files_to_zip = [output_file]\n",
        "zip_project(zip_filename, files_to_zip)\n",
        "print(f\"Project files zipped into {zip_filename}\")\n"
      ],
      "metadata": {
        "id": "eZwthkrb-HFo",
        "colab": {
          "base_uri": "https://localhost:8080/"
        },
        "outputId": "80ff1424-7d7b-4528-a6b5-2d04e8ceeef1"
      },
      "execution_count": null,
      "outputs": [
        {
          "output_type": "stream",
          "name": "stdout",
          "text": [
            "Project files zipped into dna_alignment_project.zip\n"
          ]
        }
      ]
    }
  ]
}